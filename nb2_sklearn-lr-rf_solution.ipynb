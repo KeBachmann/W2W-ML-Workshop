{
 "cells": [
  {
   "cell_type": "markdown",
   "metadata": {},
   "source": [
    "# Notebook 2: Linear regression and random forests with scikit-learn\n",
    "\n",
    "Now that we have prepared our data we can start building machine learning models.\n",
    "\n",
    "We will start with the simplest model: Linear regression"
   ]
  },
  {
   "cell_type": "code",
   "execution_count": 1,
   "metadata": {},
   "outputs": [],
   "source": [
    "import pickle\n",
    "import matplotlib.pyplot as plt\n",
    "%matplotlib inline\n",
    "import numpy as np\n",
    "import pandas as pd\n",
    "import seaborn as sns"
   ]
  },
  {
   "cell_type": "code",
   "execution_count": 2,
   "metadata": {},
   "outputs": [],
   "source": [
    "DATADIR = './dataset1/'"
   ]
  },
  {
   "cell_type": "code",
   "execution_count": 3,
   "metadata": {},
   "outputs": [],
   "source": [
    "# Copy from previous notebook\n",
    "def create_sub(preds, fn=None):\n",
    "    df =  pd.DataFrame({'Id': range(len(preds)), 'Expected': preds})\n",
    "    if fn is not None: df.to_csv(DATADIR + fn, index=False)\n",
    "    return df"
   ]
  },
  {
   "cell_type": "code",
   "execution_count": 7,
   "metadata": {},
   "outputs": [],
   "source": [
    "# Load the preprocessed data\n",
    "with open('./tmp/preproc_data.pkl', 'rb') as f:\n",
    "    X_train, y_train, X_valid, y_valid, X_test = pickle.load(f)\n",
    "with open('./tmp/dfs.pkl', 'rb') as f:\n",
    "    df_train, df_test = pickle.load(f)"
   ]
  },
  {
   "cell_type": "markdown",
   "metadata": {},
   "source": [
    "## Linear regression\n",
    "\n",
    "$y = \\sum_i a_i x_i + b$"
   ]
  },
  {
   "cell_type": "markdown",
   "metadata": {},
   "source": [
    "### Compute baseline mse\n",
    "\n",
    "Before we start let's check which score we have to beat."
   ]
  },
  {
   "cell_type": "code",
   "execution_count": 10,
   "metadata": {},
   "outputs": [],
   "source": [
    "def mse(y_true, y_pred): return ((y_true - y_pred)**2).mean()"
   ]
  },
  {
   "cell_type": "code",
   "execution_count": 11,
   "metadata": {},
   "outputs": [
    {
     "data": {
      "text/plain": [
       "4.135858792431942"
      ]
     },
     "execution_count": 11,
     "metadata": {},
     "output_type": "execute_result"
    }
   ],
   "source": [
    "mse(y_valid, df_train.t2m_fc_mean[df_train.time >= '2015-01-01'])"
   ]
  },
  {
   "cell_type": "markdown",
   "metadata": {},
   "source": [
    "### sklearn API\n",
    "\n",
    "All sklearn models work in exactly the same way."
   ]
  },
  {
   "cell_type": "code",
   "execution_count": 12,
   "metadata": {},
   "outputs": [],
   "source": [
    "from sklearn.linear_model import LinearRegression"
   ]
  },
  {
   "cell_type": "code",
   "execution_count": 13,
   "metadata": {},
   "outputs": [],
   "source": [
    "# Create the model object\n",
    "lr = LinearRegression()"
   ]
  },
  {
   "cell_type": "code",
   "execution_count": 14,
   "metadata": {},
   "outputs": [
    {
     "data": {
      "text/plain": [
       "LinearRegression(copy_X=True, fit_intercept=True, n_jobs=1, normalize=False)"
      ]
     },
     "execution_count": 14,
     "metadata": {},
     "output_type": "execute_result"
    }
   ],
   "source": [
    "# Fit the model parameters with the training data\n",
    "lr.fit(X_train, y_train)"
   ]
  },
  {
   "cell_type": "markdown",
   "metadata": {},
   "source": [
    "Now the parameters $a_i$ and $b$ have been fit to our training data. \n",
    "\n",
    "We can not look at the individual parameters."
   ]
  },
  {
   "cell_type": "code",
   "execution_count": 15,
   "metadata": {},
   "outputs": [
    {
     "data": {
      "text/plain": [
       "Index(['t2m_fc_mean', 'orog', 'station_alt', 'station_lat', 'station_lon',\n",
       "       'u_pl500_fc_mean', 'v_pl500_fc_mean', 'gh_pl500_fc_mean',\n",
       "       'u_pl850_fc_mean', 'v_pl850_fc_mean', 'q_pl850_fc_mean', 'cape_fc_mean',\n",
       "       'sp_fc_mean', 'tcc_fc_mean', 'sshf_fc_mean', 'slhf_fc_mean',\n",
       "       'u10_fc_mean', 'v10_fc_mean', 'ssr_fc_mean', 'str_fc_mean',\n",
       "       'd2m_fc_mean', 'sm_fc_mean'],\n",
       "      dtype='object')"
      ]
     },
     "execution_count": 15,
     "metadata": {},
     "output_type": "execute_result"
    }
   ],
   "source": [
    "X_train.columns"
   ]
  },
  {
   "cell_type": "code",
   "execution_count": 16,
   "metadata": {},
   "outputs": [
    {
     "data": {
      "text/plain": [
       "array([ 5.20734246,  0.53522914, -0.9193415 , -0.14865423, -0.10651631,\n",
       "        0.01482758, -0.06200976,  0.22355911,  0.08053755, -0.01852129,\n",
       "        0.14741519, -0.03510716, -0.17207246,  0.17164729,  0.54843072,\n",
       "       -0.03918102, -0.06724854,  0.13348599,  0.77616008,  0.21138807,\n",
       "        0.61088598, -0.04088925])"
      ]
     },
     "execution_count": 16,
     "metadata": {},
     "output_type": "execute_result"
    }
   ],
   "source": [
    "lr.coef_"
   ]
  },
  {
   "cell_type": "code",
   "execution_count": 17,
   "metadata": {},
   "outputs": [
    {
     "data": {
      "text/plain": [
       "7.448795068185583"
      ]
     },
     "execution_count": 17,
     "metadata": {},
     "output_type": "execute_result"
    }
   ],
   "source": [
    "lr.intercept_"
   ]
  },
  {
   "cell_type": "markdown",
   "metadata": {},
   "source": [
    "Wouldn't you expect the coefficient for `t2m_fc_mean` to be around 0 and the bias to be close to one? Why is this not the case?"
   ]
  },
  {
   "cell_type": "code",
   "execution_count": 18,
   "metadata": {},
   "outputs": [],
   "source": [
    "# Make predictions for validation set\n",
    "preds = lr.predict(X_valid)"
   ]
  },
  {
   "cell_type": "code",
   "execution_count": 19,
   "metadata": {},
   "outputs": [
    {
     "data": {
      "text/plain": [
       "3.2422963614329707"
      ]
     },
     "execution_count": 19,
     "metadata": {},
     "output_type": "execute_result"
    }
   ],
   "source": [
    "mse(preds, y_valid)"
   ]
  },
  {
   "cell_type": "code",
   "execution_count": 20,
   "metadata": {},
   "outputs": [
    {
     "data": {
      "text/html": [
       "<div>\n",
       "<style scoped>\n",
       "    .dataframe tbody tr th:only-of-type {\n",
       "        vertical-align: middle;\n",
       "    }\n",
       "\n",
       "    .dataframe tbody tr th {\n",
       "        vertical-align: top;\n",
       "    }\n",
       "\n",
       "    .dataframe thead th {\n",
       "        text-align: right;\n",
       "    }\n",
       "</style>\n",
       "<table border=\"1\" class=\"dataframe\">\n",
       "  <thead>\n",
       "    <tr style=\"text-align: right;\">\n",
       "      <th></th>\n",
       "      <th>Id</th>\n",
       "      <th>Expected</th>\n",
       "    </tr>\n",
       "  </thead>\n",
       "  <tbody>\n",
       "    <tr>\n",
       "      <th>0</th>\n",
       "      <td>0</td>\n",
       "      <td>4.195768</td>\n",
       "    </tr>\n",
       "    <tr>\n",
       "      <th>1</th>\n",
       "      <td>1</td>\n",
       "      <td>1.528290</td>\n",
       "    </tr>\n",
       "    <tr>\n",
       "      <th>2</th>\n",
       "      <td>2</td>\n",
       "      <td>1.475483</td>\n",
       "    </tr>\n",
       "    <tr>\n",
       "      <th>3</th>\n",
       "      <td>3</td>\n",
       "      <td>4.318616</td>\n",
       "    </tr>\n",
       "    <tr>\n",
       "      <th>4</th>\n",
       "      <td>4</td>\n",
       "      <td>2.337542</td>\n",
       "    </tr>\n",
       "  </tbody>\n",
       "</table>\n",
       "</div>"
      ],
      "text/plain": [
       "   Id  Expected\n",
       "0   0  4.195768\n",
       "1   1  1.528290\n",
       "2   2  1.475483\n",
       "3   3  4.318616\n",
       "4   4  2.337542"
      ]
     },
     "execution_count": 20,
     "metadata": {},
     "output_type": "execute_result"
    }
   ],
   "source": [
    "# Submit to Kaggle\n",
    "df_sub = create_sub(lr.predict(X_test), 'lr.csv'); df_sub.head()"
   ]
  },
  {
   "cell_type": "markdown",
   "metadata": {},
   "source": [
    "### The R$^2$ score\n",
    "\n",
    "The R$^2$ score is a common skill metric in machine learning: https://en.wikipedia.org/wiki/Coefficient_of_determination"
   ]
  },
  {
   "cell_type": "code",
   "execution_count": 21,
   "metadata": {},
   "outputs": [
    {
     "data": {
      "text/plain": [
       "0.9187372901848856"
      ]
     },
     "execution_count": 21,
     "metadata": {},
     "output_type": "execute_result"
    }
   ],
   "source": [
    "lr.score(X_valid, y_valid)"
   ]
  },
  {
   "cell_type": "code",
   "execution_count": 22,
   "metadata": {},
   "outputs": [],
   "source": [
    "def print_scores(m, X_train=X_train, X_valid=X_valid):\n",
    "    print('Train R2 = ', m.score(X_train, y_train), \n",
    "          ', Valid R2 = ', m.score(X_valid, y_valid), ', Valid MSE = ', \n",
    "          mse(m.predict(X_valid), y_valid))"
   ]
  },
  {
   "cell_type": "code",
   "execution_count": 23,
   "metadata": {},
   "outputs": [
    {
     "name": "stdout",
     "output_type": "stream",
     "text": [
      "Train R2 =  0.9319430866570234 , Valid R2 =  0.9187372901848856 , Valid MSE =  3.2422963614329707\n"
     ]
    }
   ],
   "source": [
    "print_scores(lr)"
   ]
  },
  {
   "cell_type": "markdown",
   "metadata": {},
   "source": [
    "We can see that the training and validation score are roughly similar, indicating that the linear regression doesn't seem to be very prone to overfitting."
   ]
  },
  {
   "cell_type": "markdown",
   "metadata": {},
   "source": [
    "## Decicion trees\n",
    "\n",
    "Linear regression improves the score but we can do better. One very common machine learning algorithm are decision trees. They are capable of representing non-linear relationships. In scikit-learn we can use the exact same API as before."
   ]
  },
  {
   "cell_type": "code",
   "execution_count": 24,
   "metadata": {},
   "outputs": [],
   "source": [
    "from sklearn.tree import DecisionTreeRegressor\n",
    "from sklearn.tree import export_graphviz\n",
    "from IPython.display import display\n",
    "import IPython, graphviz, re"
   ]
  },
  {
   "cell_type": "markdown",
   "metadata": {},
   "source": [
    "### Visualize a tree"
   ]
  },
  {
   "cell_type": "code",
   "execution_count": 25,
   "metadata": {},
   "outputs": [],
   "source": [
    "def draw_tree(t, df, size=10, ratio=0.6, precision=0):\n",
    "    \"\"\" From fast.ai machine learning course.\n",
    "    Draws a representation of a random forest in IPython.\n",
    "    Parameters:\n",
    "    -----------\n",
    "    t: The tree you wish to draw\n",
    "    df: The data used to train the tree. This is used to get the names of the features.\n",
    "    \"\"\"\n",
    "    s=export_graphviz(t, out_file=None, feature_names=df.columns, filled=True,\n",
    "                      special_characters=True, rotate=True, precision=precision)\n",
    "    IPython.display.display(graphviz.Source(re.sub('Tree {',\n",
    "       f'Tree {{ size={size}; ratio={ratio}', s)))"
   ]
  },
  {
   "cell_type": "markdown",
   "metadata": {},
   "source": [
    "Let's start with a very shallow tree which we can visualize. Again we are using the exact same sklearn API."
   ]
  },
  {
   "cell_type": "code",
   "execution_count": 26,
   "metadata": {},
   "outputs": [],
   "source": [
    "dt = DecisionTreeRegressor(max_depth=3)"
   ]
  },
  {
   "cell_type": "code",
   "execution_count": 27,
   "metadata": {},
   "outputs": [
    {
     "name": "stdout",
     "output_type": "stream",
     "text": [
      "CPU times: user 5.53 s, sys: 0 ns, total: 5.53 s\n",
      "Wall time: 5.53 s\n"
     ]
    },
    {
     "data": {
      "text/plain": [
       "DecisionTreeRegressor(criterion='mse', max_depth=3, max_features=None,\n",
       "           max_leaf_nodes=None, min_impurity_decrease=0.0,\n",
       "           min_impurity_split=None, min_samples_leaf=1,\n",
       "           min_samples_split=2, min_weight_fraction_leaf=0.0,\n",
       "           presort=False, random_state=None, splitter='best')"
      ]
     },
     "execution_count": 27,
     "metadata": {},
     "output_type": "execute_result"
    }
   ],
   "source": [
    "%time dt.fit(X_train, y_train)"
   ]
  },
  {
   "cell_type": "code",
   "execution_count": 28,
   "metadata": {},
   "outputs": [
    {
     "data": {
      "image/svg+xml": [
       "<?xml version=\"1.0\" encoding=\"UTF-8\" standalone=\"no\"?>\n",
       "<!DOCTYPE svg PUBLIC \"-//W3C//DTD SVG 1.1//EN\"\n",
       " \"http://www.w3.org/Graphics/SVG/1.1/DTD/svg11.dtd\">\n",
       "<!-- Generated by graphviz version 2.38.0 (20140413.2041)\n",
       " -->\n",
       "<!-- Title: Tree Pages: 1 -->\n",
       "<svg width=\"720pt\" height=\"434pt\"\n",
       " viewBox=\"0.00 0.00 720.00 434.49\" xmlns=\"http://www.w3.org/2000/svg\" xmlns:xlink=\"http://www.w3.org/1999/xlink\">\n",
       "<g id=\"graph0\" class=\"graph\" transform=\"scale(0.778659 0.778659) rotate(0) translate(4 554)\">\n",
       "<title>Tree</title>\n",
       "<polygon fill=\"white\" stroke=\"none\" points=\"-4,4 -4,-554 920.667,-554 920.667,4 -4,4\"/>\n",
       "<!-- 0 -->\n",
       "<g id=\"node1\" class=\"node\"><title>0</title>\n",
       "<polygon fill=\"#e58139\" fill-opacity=\"0.588235\" stroke=\"black\" points=\"160.667,-308.5 32.6667,-308.5 32.6667,-240.5 160.667,-240.5 160.667,-308.5\"/>\n",
       "<text text-anchor=\"start\" x=\"40.6667\" y=\"-293.3\" font-family=\"Times,serif\" font-size=\"14.00\">t2m_fc_mean ≤ &#45;0.0</text>\n",
       "<text text-anchor=\"start\" x=\"66.6667\" y=\"-278.3\" font-family=\"Times,serif\" font-size=\"14.00\">mse = 44.0</text>\n",
       "<text text-anchor=\"start\" x=\"47.1667\" y=\"-263.3\" font-family=\"Times,serif\" font-size=\"14.00\">samples = 728008</text>\n",
       "<text text-anchor=\"start\" x=\"66.6667\" y=\"-248.3\" font-family=\"Times,serif\" font-size=\"14.00\">value = 7.0</text>\n",
       "</g>\n",
       "<!-- 1 -->\n",
       "<g id=\"node2\" class=\"node\"><title>1</title>\n",
       "<polygon fill=\"#e58139\" fill-opacity=\"0.356863\" stroke=\"black\" points=\"408.667,-361.5 280.667,-361.5 280.667,-293.5 408.667,-293.5 408.667,-361.5\"/>\n",
       "<text text-anchor=\"start\" x=\"288.667\" y=\"-346.3\" font-family=\"Times,serif\" font-size=\"14.00\">t2m_fc_mean ≤ &#45;1.0</text>\n",
       "<text text-anchor=\"start\" x=\"314.667\" y=\"-331.3\" font-family=\"Times,serif\" font-size=\"14.00\">mse = 19.0</text>\n",
       "<text text-anchor=\"start\" x=\"295.167\" y=\"-316.3\" font-family=\"Times,serif\" font-size=\"14.00\">samples = 333362</text>\n",
       "<text text-anchor=\"start\" x=\"314.667\" y=\"-301.3\" font-family=\"Times,serif\" font-size=\"14.00\">value = 2.0</text>\n",
       "</g>\n",
       "<!-- 0&#45;&gt;1 -->\n",
       "<g id=\"edge1\" class=\"edge\"><title>0&#45;&gt;1</title>\n",
       "<path fill=\"none\" stroke=\"black\" d=\"M160.698,-288.08C194.126,-295.282 235.378,-304.17 270.246,-311.682\"/>\n",
       "<polygon fill=\"black\" stroke=\"black\" points=\"269.859,-315.179 280.372,-313.863 271.333,-308.336 269.859,-315.179\"/>\n",
       "<text text-anchor=\"middle\" x=\"259.367\" y=\"-323.721\" font-family=\"Times,serif\" font-size=\"14.00\">True</text>\n",
       "</g>\n",
       "<!-- 8 -->\n",
       "<g id=\"node9\" class=\"node\"><title>8</title>\n",
       "<polygon fill=\"#e58139\" fill-opacity=\"0.780392\" stroke=\"black\" points=\"406.667,-255.5 282.667,-255.5 282.667,-187.5 406.667,-187.5 406.667,-255.5\"/>\n",
       "<text text-anchor=\"start\" x=\"290.667\" y=\"-240.3\" font-family=\"Times,serif\" font-size=\"14.00\">t2m_fc_mean ≤ 1.0</text>\n",
       "<text text-anchor=\"start\" x=\"314.667\" y=\"-225.3\" font-family=\"Times,serif\" font-size=\"14.00\">mse = 14.0</text>\n",
       "<text text-anchor=\"start\" x=\"295.167\" y=\"-210.3\" font-family=\"Times,serif\" font-size=\"14.00\">samples = 394646</text>\n",
       "<text text-anchor=\"start\" x=\"311.167\" y=\"-195.3\" font-family=\"Times,serif\" font-size=\"14.00\">value = 12.0</text>\n",
       "</g>\n",
       "<!-- 0&#45;&gt;8 -->\n",
       "<g id=\"edge8\" class=\"edge\"><title>0&#45;&gt;8</title>\n",
       "<path fill=\"none\" stroke=\"black\" d=\"M160.698,-260.92C194.921,-253.547 237.343,-244.407 272.72,-236.785\"/>\n",
       "<polygon fill=\"black\" stroke=\"black\" points=\"273.46,-240.206 282.499,-234.678 271.986,-233.363 273.46,-240.206\"/>\n",
       "<text text-anchor=\"middle\" x=\"261.495\" y=\"-217.42\" font-family=\"Times,serif\" font-size=\"14.00\">False</text>\n",
       "</g>\n",
       "<!-- 2 -->\n",
       "<g id=\"node3\" class=\"node\"><title>2</title>\n",
       "<polygon fill=\"#e58139\" fill-opacity=\"0.176471\" stroke=\"black\" points=\"655.667,-486.5 527.667,-486.5 527.667,-418.5 655.667,-418.5 655.667,-486.5\"/>\n",
       "<text text-anchor=\"start\" x=\"535.667\" y=\"-471.3\" font-family=\"Times,serif\" font-size=\"14.00\">t2m_fc_mean ≤ &#45;2.0</text>\n",
       "<text text-anchor=\"start\" x=\"561.667\" y=\"-456.3\" font-family=\"Times,serif\" font-size=\"14.00\">mse = 15.0</text>\n",
       "<text text-anchor=\"start\" x=\"542.167\" y=\"-441.3\" font-family=\"Times,serif\" font-size=\"14.00\">samples = 108193</text>\n",
       "<text text-anchor=\"start\" x=\"559.667\" y=\"-426.3\" font-family=\"Times,serif\" font-size=\"14.00\">value = &#45;3.0</text>\n",
       "</g>\n",
       "<!-- 1&#45;&gt;2 -->\n",
       "<g id=\"edge2\" class=\"edge\"><title>1&#45;&gt;2</title>\n",
       "<path fill=\"none\" stroke=\"black\" d=\"M408.76,-359.691C442.209,-376.756 483.454,-397.8 518.21,-415.532\"/>\n",
       "<polygon fill=\"black\" stroke=\"black\" points=\"516.863,-418.774 527.362,-420.201 520.045,-412.539 516.863,-418.774\"/>\n",
       "</g>\n",
       "<!-- 5 -->\n",
       "<g id=\"node6\" class=\"node\"><title>5</title>\n",
       "<polygon fill=\"#e58139\" fill-opacity=\"0.447059\" stroke=\"black\" points=\"655.667,-361.5 527.667,-361.5 527.667,-293.5 655.667,-293.5 655.667,-361.5\"/>\n",
       "<text text-anchor=\"start\" x=\"535.667\" y=\"-346.3\" font-family=\"Times,serif\" font-size=\"14.00\">t2m_fc_mean ≤ &#45;1.0</text>\n",
       "<text text-anchor=\"start\" x=\"565.167\" y=\"-331.3\" font-family=\"Times,serif\" font-size=\"14.00\">mse = 7.0</text>\n",
       "<text text-anchor=\"start\" x=\"542.167\" y=\"-316.3\" font-family=\"Times,serif\" font-size=\"14.00\">samples = 225169</text>\n",
       "<text text-anchor=\"start\" x=\"561.667\" y=\"-301.3\" font-family=\"Times,serif\" font-size=\"14.00\">value = 4.0</text>\n",
       "</g>\n",
       "<!-- 1&#45;&gt;5 -->\n",
       "<g id=\"edge5\" class=\"edge\"><title>1&#45;&gt;5</title>\n",
       "<path fill=\"none\" stroke=\"black\" d=\"M408.76,-327.5C441.924,-327.5 482.753,-327.5 517.321,-327.5\"/>\n",
       "<polygon fill=\"black\" stroke=\"black\" points=\"517.362,-331 527.362,-327.5 517.362,-324 517.362,-331\"/>\n",
       "</g>\n",
       "<!-- 3 -->\n",
       "<g id=\"node4\" class=\"node\"><title>3</title>\n",
       "<polygon fill=\"none\" stroke=\"black\" points=\"883.667,-550 775.667,-550 775.667,-497 883.667,-497 883.667,-550\"/>\n",
       "<text text-anchor=\"start\" x=\"799.667\" y=\"-534.8\" font-family=\"Times,serif\" font-size=\"14.00\">mse = 17.0</text>\n",
       "<text text-anchor=\"start\" x=\"783.667\" y=\"-519.8\" font-family=\"Times,serif\" font-size=\"14.00\">samples = 27937</text>\n",
       "<text text-anchor=\"start\" x=\"797.667\" y=\"-504.8\" font-family=\"Times,serif\" font-size=\"14.00\">value = &#45;7.0</text>\n",
       "</g>\n",
       "<!-- 2&#45;&gt;3 -->\n",
       "<g id=\"edge3\" class=\"edge\"><title>2&#45;&gt;3</title>\n",
       "<path fill=\"none\" stroke=\"black\" d=\"M655.91,-471.527C689.96,-481.77 731.825,-494.365 765.815,-504.591\"/>\n",
       "<polygon fill=\"black\" stroke=\"black\" points=\"765.05,-508.016 775.635,-507.545 767.067,-501.313 765.05,-508.016\"/>\n",
       "</g>\n",
       "<!-- 4 -->\n",
       "<g id=\"node5\" class=\"node\"><title>4</title>\n",
       "<polygon fill=\"#e58139\" fill-opacity=\"0.239216\" stroke=\"black\" points=\"883.667,-479 775.667,-479 775.667,-426 883.667,-426 883.667,-479\"/>\n",
       "<text text-anchor=\"start\" x=\"803.167\" y=\"-463.8\" font-family=\"Times,serif\" font-size=\"14.00\">mse = 5.0</text>\n",
       "<text text-anchor=\"start\" x=\"783.667\" y=\"-448.8\" font-family=\"Times,serif\" font-size=\"14.00\">samples = 80256</text>\n",
       "<text text-anchor=\"start\" x=\"797.667\" y=\"-433.8\" font-family=\"Times,serif\" font-size=\"14.00\">value = &#45;1.0</text>\n",
       "</g>\n",
       "<!-- 2&#45;&gt;4 -->\n",
       "<g id=\"edge4\" class=\"edge\"><title>2&#45;&gt;4</title>\n",
       "<path fill=\"none\" stroke=\"black\" d=\"M655.91,-452.5C689.814,-452.5 731.466,-452.5 765.376,-452.5\"/>\n",
       "<polygon fill=\"black\" stroke=\"black\" points=\"765.635,-456 775.635,-452.5 765.635,-449 765.635,-456\"/>\n",
       "</g>\n",
       "<!-- 6 -->\n",
       "<g id=\"node7\" class=\"node\"><title>6</title>\n",
       "<polygon fill=\"#e58139\" fill-opacity=\"0.384314\" stroke=\"black\" points=\"887.167,-408 772.167,-408 772.167,-355 887.167,-355 887.167,-408\"/>\n",
       "<text text-anchor=\"start\" x=\"803.167\" y=\"-392.8\" font-family=\"Times,serif\" font-size=\"14.00\">mse = 4.0</text>\n",
       "<text text-anchor=\"start\" x=\"780.167\" y=\"-377.8\" font-family=\"Times,serif\" font-size=\"14.00\">samples = 112684</text>\n",
       "<text text-anchor=\"start\" x=\"799.667\" y=\"-362.8\" font-family=\"Times,serif\" font-size=\"14.00\">value = 2.0</text>\n",
       "</g>\n",
       "<!-- 5&#45;&gt;6 -->\n",
       "<g id=\"edge6\" class=\"edge\"><title>5&#45;&gt;6</title>\n",
       "<path fill=\"none\" stroke=\"black\" d=\"M655.91,-341.971C688.7,-349.474 728.738,-358.635 762.01,-366.248\"/>\n",
       "<polygon fill=\"black\" stroke=\"black\" points=\"761.575,-369.739 772.104,-368.558 763.136,-362.915 761.575,-369.739\"/>\n",
       "</g>\n",
       "<!-- 7 -->\n",
       "<g id=\"node8\" class=\"node\"><title>7</title>\n",
       "<polygon fill=\"#e58139\" fill-opacity=\"0.509804\" stroke=\"black\" points=\"887.167,-337 772.167,-337 772.167,-284 887.167,-284 887.167,-337\"/>\n",
       "<text text-anchor=\"start\" x=\"803.167\" y=\"-321.8\" font-family=\"Times,serif\" font-size=\"14.00\">mse = 4.0</text>\n",
       "<text text-anchor=\"start\" x=\"780.167\" y=\"-306.8\" font-family=\"Times,serif\" font-size=\"14.00\">samples = 112485</text>\n",
       "<text text-anchor=\"start\" x=\"799.667\" y=\"-291.8\" font-family=\"Times,serif\" font-size=\"14.00\">value = 5.0</text>\n",
       "</g>\n",
       "<!-- 5&#45;&gt;7 -->\n",
       "<g id=\"edge7\" class=\"edge\"><title>5&#45;&gt;7</title>\n",
       "<path fill=\"none\" stroke=\"black\" d=\"M655.91,-322.944C688.7,-320.582 728.738,-317.698 762.01,-315.302\"/>\n",
       "<polygon fill=\"black\" stroke=\"black\" points=\"762.381,-318.784 772.104,-314.574 761.878,-311.802 762.381,-318.784\"/>\n",
       "</g>\n",
       "<!-- 9 -->\n",
       "<g id=\"node10\" class=\"node\"><title>9</title>\n",
       "<polygon fill=\"#e58139\" fill-opacity=\"0.682353\" stroke=\"black\" points=\"653.667,-255.5 529.667,-255.5 529.667,-187.5 653.667,-187.5 653.667,-255.5\"/>\n",
       "<text text-anchor=\"start\" x=\"537.667\" y=\"-240.3\" font-family=\"Times,serif\" font-size=\"14.00\">t2m_fc_mean ≤ 0.0</text>\n",
       "<text text-anchor=\"start\" x=\"565.167\" y=\"-225.3\" font-family=\"Times,serif\" font-size=\"14.00\">mse = 6.0</text>\n",
       "<text text-anchor=\"start\" x=\"542.167\" y=\"-210.3\" font-family=\"Times,serif\" font-size=\"14.00\">samples = 218471</text>\n",
       "<text text-anchor=\"start\" x=\"558.167\" y=\"-195.3\" font-family=\"Times,serif\" font-size=\"14.00\">value = 10.0</text>\n",
       "</g>\n",
       "<!-- 8&#45;&gt;9 -->\n",
       "<g id=\"edge9\" class=\"edge\"><title>8&#45;&gt;9</title>\n",
       "<path fill=\"none\" stroke=\"black\" d=\"M406.859,-221.5C440.914,-221.5 483.488,-221.5 519.083,-221.5\"/>\n",
       "<polygon fill=\"black\" stroke=\"black\" points=\"519.406,-225 529.406,-221.5 519.406,-218 519.406,-225\"/>\n",
       "</g>\n",
       "<!-- 12 -->\n",
       "<g id=\"node13\" class=\"node\"><title>12</title>\n",
       "<polygon fill=\"#e58139\" fill-opacity=\"0.898039\" stroke=\"black\" points=\"653.667,-131.5 529.667,-131.5 529.667,-63.5 653.667,-63.5 653.667,-131.5\"/>\n",
       "<text text-anchor=\"start\" x=\"537.667\" y=\"-116.3\" font-family=\"Times,serif\" font-size=\"14.00\">t2m_fc_mean ≤ 1.0</text>\n",
       "<text text-anchor=\"start\" x=\"565.167\" y=\"-101.3\" font-family=\"Times,serif\" font-size=\"14.00\">mse = 7.0</text>\n",
       "<text text-anchor=\"start\" x=\"542.167\" y=\"-86.3\" font-family=\"Times,serif\" font-size=\"14.00\">samples = 176175</text>\n",
       "<text text-anchor=\"start\" x=\"558.167\" y=\"-71.3\" font-family=\"Times,serif\" font-size=\"14.00\">value = 15.0</text>\n",
       "</g>\n",
       "<!-- 8&#45;&gt;12 -->\n",
       "<g id=\"edge12\" class=\"edge\"><title>8&#45;&gt;12</title>\n",
       "<path fill=\"none\" stroke=\"black\" d=\"M406.859,-190.529C441.353,-173.071 484.585,-151.19 520.455,-133.036\"/>\n",
       "<polygon fill=\"black\" stroke=\"black\" points=\"522.064,-136.144 529.406,-128.506 518.903,-129.899 522.064,-136.144\"/>\n",
       "</g>\n",
       "<!-- 10 -->\n",
       "<g id=\"node11\" class=\"node\"><title>10</title>\n",
       "<polygon fill=\"#e58139\" fill-opacity=\"0.623529\" stroke=\"black\" points=\"887.167,-266 772.167,-266 772.167,-213 887.167,-213 887.167,-266\"/>\n",
       "<text text-anchor=\"start\" x=\"803.167\" y=\"-250.8\" font-family=\"Times,serif\" font-size=\"14.00\">mse = 4.0</text>\n",
       "<text text-anchor=\"start\" x=\"780.167\" y=\"-235.8\" font-family=\"Times,serif\" font-size=\"14.00\">samples = 100215</text>\n",
       "<text text-anchor=\"start\" x=\"799.667\" y=\"-220.8\" font-family=\"Times,serif\" font-size=\"14.00\">value = 8.0</text>\n",
       "</g>\n",
       "<!-- 9&#45;&gt;10 -->\n",
       "<g id=\"edge10\" class=\"edge\"><title>9&#45;&gt;10</title>\n",
       "<path fill=\"none\" stroke=\"black\" d=\"M653.749,-226.159C686.796,-228.679 727.674,-231.797 761.601,-234.385\"/>\n",
       "<polygon fill=\"black\" stroke=\"black\" points=\"761.653,-237.899 771.891,-235.17 762.186,-230.919 761.653,-237.899\"/>\n",
       "</g>\n",
       "<!-- 11 -->\n",
       "<g id=\"node12\" class=\"node\"><title>11</title>\n",
       "<polygon fill=\"#e58139\" fill-opacity=\"0.733333\" stroke=\"black\" points=\"887.167,-195 772.167,-195 772.167,-142 887.167,-142 887.167,-195\"/>\n",
       "<text text-anchor=\"start\" x=\"803.167\" y=\"-179.8\" font-family=\"Times,serif\" font-size=\"14.00\">mse = 4.0</text>\n",
       "<text text-anchor=\"start\" x=\"780.167\" y=\"-164.8\" font-family=\"Times,serif\" font-size=\"14.00\">samples = 118256</text>\n",
       "<text text-anchor=\"start\" x=\"796.167\" y=\"-149.8\" font-family=\"Times,serif\" font-size=\"14.00\">value = 11.0</text>\n",
       "</g>\n",
       "<!-- 9&#45;&gt;11 -->\n",
       "<g id=\"edge11\" class=\"edge\"><title>9&#45;&gt;11</title>\n",
       "<path fill=\"none\" stroke=\"black\" d=\"M653.749,-207.782C686.939,-200.329 728.027,-191.101 762.04,-183.463\"/>\n",
       "<polygon fill=\"black\" stroke=\"black\" points=\"762.901,-186.857 771.891,-181.251 761.367,-180.027 762.901,-186.857\"/>\n",
       "</g>\n",
       "<!-- 13 -->\n",
       "<g id=\"node14\" class=\"node\"><title>13</title>\n",
       "<polygon fill=\"#e58139\" fill-opacity=\"0.850980\" stroke=\"black\" points=\"887.167,-124 772.167,-124 772.167,-71 887.167,-71 887.167,-124\"/>\n",
       "<text text-anchor=\"start\" x=\"803.167\" y=\"-108.8\" font-family=\"Times,serif\" font-size=\"14.00\">mse = 4.0</text>\n",
       "<text text-anchor=\"start\" x=\"780.167\" y=\"-93.8\" font-family=\"Times,serif\" font-size=\"14.00\">samples = 120810</text>\n",
       "<text text-anchor=\"start\" x=\"796.167\" y=\"-78.8\" font-family=\"Times,serif\" font-size=\"14.00\">value = 14.0</text>\n",
       "</g>\n",
       "<!-- 12&#45;&gt;13 -->\n",
       "<g id=\"edge13\" class=\"edge\"><title>12&#45;&gt;13</title>\n",
       "<path fill=\"none\" stroke=\"black\" d=\"M653.749,-97.5C686.796,-97.5 727.674,-97.5 761.601,-97.5\"/>\n",
       "<polygon fill=\"black\" stroke=\"black\" points=\"761.891,-101 771.891,-97.5 761.891,-94.0001 761.891,-101\"/>\n",
       "</g>\n",
       "<!-- 14 -->\n",
       "<g id=\"node15\" class=\"node\"><title>14</title>\n",
       "<polygon fill=\"#e58139\" stroke=\"black\" points=\"883.667,-53 775.667,-53 775.667,-0 883.667,-0 883.667,-53\"/>\n",
       "<text text-anchor=\"start\" x=\"803.167\" y=\"-37.8\" font-family=\"Times,serif\" font-size=\"14.00\">mse = 5.0</text>\n",
       "<text text-anchor=\"start\" x=\"783.667\" y=\"-22.8\" font-family=\"Times,serif\" font-size=\"14.00\">samples = 55365</text>\n",
       "<text text-anchor=\"start\" x=\"796.167\" y=\"-7.8\" font-family=\"Times,serif\" font-size=\"14.00\">value = 18.0</text>\n",
       "</g>\n",
       "<!-- 12&#45;&gt;14 -->\n",
       "<g id=\"edge14\" class=\"edge\"><title>12&#45;&gt;14</title>\n",
       "<path fill=\"none\" stroke=\"black\" d=\"M653.749,-79.1234C688.057,-68.802 730.806,-55.9411 765.454,-45.5173\"/>\n",
       "<polygon fill=\"black\" stroke=\"black\" points=\"766.895,-48.739 775.462,-42.5064 764.878,-42.0358 766.895,-48.739\"/>\n",
       "</g>\n",
       "</g>\n",
       "</svg>\n"
      ],
      "text/plain": [
       "<graphviz.files.Source at 0x7fafddce9898>"
      ]
     },
     "metadata": {},
     "output_type": "display_data"
    }
   ],
   "source": [
    "draw_tree(dt, df_train.drop(['t2m_obs', 'time', 'station'], 1))"
   ]
  },
  {
   "cell_type": "markdown",
   "metadata": {},
   "source": [
    "Here we can see that the splits are entirely based on `t2m_fc_mean` which is not surpising."
   ]
  },
  {
   "cell_type": "markdown",
   "metadata": {},
   "source": [
    "### Build a full tree\n",
    "\n",
    "Now let's actually build a complicated tree."
   ]
  },
  {
   "cell_type": "code",
   "execution_count": 29,
   "metadata": {},
   "outputs": [],
   "source": [
    "dt = DecisionTreeRegressor()"
   ]
  },
  {
   "cell_type": "code",
   "execution_count": 30,
   "metadata": {},
   "outputs": [
    {
     "name": "stdout",
     "output_type": "stream",
     "text": [
      "CPU times: user 34 s, sys: 0 ns, total: 34 s\n",
      "Wall time: 34 s\n"
     ]
    },
    {
     "data": {
      "text/plain": [
       "DecisionTreeRegressor(criterion='mse', max_depth=None, max_features=None,\n",
       "           max_leaf_nodes=None, min_impurity_decrease=0.0,\n",
       "           min_impurity_split=None, min_samples_leaf=1,\n",
       "           min_samples_split=2, min_weight_fraction_leaf=0.0,\n",
       "           presort=False, random_state=None, splitter='best')"
      ]
     },
     "execution_count": 30,
     "metadata": {},
     "output_type": "execute_result"
    }
   ],
   "source": [
    "%time dt.fit(X_train, y_train)"
   ]
  },
  {
   "cell_type": "code",
   "execution_count": 31,
   "metadata": {},
   "outputs": [
    {
     "name": "stdout",
     "output_type": "stream",
     "text": [
      "Train R2 =  1.0 , Valid R2 =  0.8427923226726671 , Valid MSE =  6.272420417033087\n"
     ]
    }
   ],
   "source": [
    "print_scores(dt)"
   ]
  },
  {
   "cell_type": "code",
   "execution_count": 43,
   "metadata": {},
   "outputs": [
    {
     "data": {
      "text/plain": [
       "1291953"
      ]
     },
     "execution_count": 43,
     "metadata": {},
     "output_type": "execute_result"
    }
   ],
   "source": [
    "dt.tree_.node_count"
   ]
  },
  {
   "cell_type": "markdown",
   "metadata": {},
   "source": [
    "So we have a perfect score on the training dataset, but a pretty awful score on the validation set. This is an extreme case of overfitting!\n",
    "\n",
    "But this is to be expected. We built our tree to perfectly fit the training set, so that only one sample remains in the final leafs."
   ]
  },
  {
   "cell_type": "markdown",
   "metadata": {},
   "source": [
    "### Reduce the complexity of the tree\n",
    "\n",
    "To combat this we can set the minimum number of samples in each final leaf to a higher value."
   ]
  },
  {
   "cell_type": "code",
   "execution_count": 44,
   "metadata": {},
   "outputs": [],
   "source": [
    "dt = DecisionTreeRegressor(min_samples_leaf=200)"
   ]
  },
  {
   "cell_type": "code",
   "execution_count": 45,
   "metadata": {},
   "outputs": [
    {
     "name": "stdout",
     "output_type": "stream",
     "text": [
      "CPU times: user 22.1 s, sys: 0 ns, total: 22.1 s\n",
      "Wall time: 22.1 s\n"
     ]
    },
    {
     "data": {
      "text/plain": [
       "DecisionTreeRegressor(criterion='mse', max_depth=None, max_features=None,\n",
       "           max_leaf_nodes=None, min_impurity_decrease=0.0,\n",
       "           min_impurity_split=None, min_samples_leaf=200,\n",
       "           min_samples_split=2, min_weight_fraction_leaf=0.0,\n",
       "           presort=False, random_state=None, splitter='best')"
      ]
     },
     "execution_count": 45,
     "metadata": {},
     "output_type": "execute_result"
    }
   ],
   "source": [
    "%time dt.fit(X_train, y_train)"
   ]
  },
  {
   "cell_type": "code",
   "execution_count": 46,
   "metadata": {},
   "outputs": [
    {
     "name": "stdout",
     "output_type": "stream",
     "text": [
      "Train R2 =  0.939008732905577 , Valid R2 =  0.9112729295089091 , Valid MSE =  3.5401164749291705\n"
     ]
    }
   ],
   "source": [
    "print_scores(dt)"
   ]
  },
  {
   "cell_type": "markdown",
   "metadata": {},
   "source": [
    "The overfitting is less bad now but we still cannot get a better score than with linear regression. We need to do better!"
   ]
  },
  {
   "cell_type": "markdown",
   "metadata": {},
   "source": [
    "## Random forests\n",
    "\n",
    "Here is where random forests are coming in. As the name suggests, a random forest is an ensemble of decision trees, where each tree is build with a random subsample of the features and training data. This should help to prevent overfitting."
   ]
  },
  {
   "cell_type": "code",
   "execution_count": 47,
   "metadata": {},
   "outputs": [],
   "source": [
    "from sklearn.ensemble import RandomForestRegressor"
   ]
  },
  {
   "cell_type": "markdown",
   "metadata": {},
   "source": [
    "### Fit a sample model"
   ]
  },
  {
   "cell_type": "markdown",
   "metadata": {},
   "source": [
    "Now we are fitting several decision trees. This can be done in parallel by several processors. `n_jobs = -1` uses all available processors."
   ]
  },
  {
   "cell_type": "code",
   "execution_count": 48,
   "metadata": {},
   "outputs": [],
   "source": [
    "rf = RandomForestRegressor(n_estimators=10, n_jobs=-1)"
   ]
  },
  {
   "cell_type": "code",
   "execution_count": 49,
   "metadata": {},
   "outputs": [
    {
     "name": "stdout",
     "output_type": "stream",
     "text": [
      "CPU times: user 4min 34s, sys: 144 ms, total: 4min 34s\n",
      "Wall time: 29.4 s\n"
     ]
    },
    {
     "data": {
      "text/plain": [
       "RandomForestRegressor(bootstrap=True, criterion='mse', max_depth=None,\n",
       "           max_features='auto', max_leaf_nodes=None,\n",
       "           min_impurity_decrease=0.0, min_impurity_split=None,\n",
       "           min_samples_leaf=1, min_samples_split=2,\n",
       "           min_weight_fraction_leaf=0.0, n_estimators=10, n_jobs=-1,\n",
       "           oob_score=False, random_state=None, verbose=0, warm_start=False)"
      ]
     },
     "execution_count": 49,
     "metadata": {},
     "output_type": "execute_result"
    }
   ],
   "source": [
    "%time rf.fit(X_train, y_train)"
   ]
  },
  {
   "cell_type": "code",
   "execution_count": 50,
   "metadata": {},
   "outputs": [
    {
     "name": "stdout",
     "output_type": "stream",
     "text": [
      "Train R2 =  0.9923784978318793 , Valid R2 =  0.9171492011905503 , Valid MSE =  3.3056594363252723\n"
     ]
    }
   ],
   "source": [
    "print_scores(rf)"
   ]
  },
  {
   "cell_type": "markdown",
   "metadata": {},
   "source": [
    "Again, we see that we are overfitting quite badly. As before, we can tune the hyper-parameters to prevent overfitting"
   ]
  },
  {
   "cell_type": "markdown",
   "metadata": {},
   "source": [
    "### Hyperparameters\n"
   ]
  },
  {
   "cell_type": "markdown",
   "metadata": {},
   "source": [
    "#### min_samples_leaf\n",
    "\n",
    "The minimum number of sample is each leaf."
   ]
  },
  {
   "cell_type": "code",
   "execution_count": 51,
   "metadata": {},
   "outputs": [],
   "source": [
    "rf = RandomForestRegressor(n_estimators=10, n_jobs=-1, min_samples_leaf=100)"
   ]
  },
  {
   "cell_type": "code",
   "execution_count": 52,
   "metadata": {},
   "outputs": [
    {
     "name": "stdout",
     "output_type": "stream",
     "text": [
      "CPU times: user 3min 11s, sys: 76 ms, total: 3min 11s\n",
      "Wall time: 20.2 s\n"
     ]
    },
    {
     "data": {
      "text/plain": [
       "RandomForestRegressor(bootstrap=True, criterion='mse', max_depth=None,\n",
       "           max_features='auto', max_leaf_nodes=None,\n",
       "           min_impurity_decrease=0.0, min_impurity_split=None,\n",
       "           min_samples_leaf=100, min_samples_split=2,\n",
       "           min_weight_fraction_leaf=0.0, n_estimators=10, n_jobs=-1,\n",
       "           oob_score=False, random_state=None, verbose=0, warm_start=False)"
      ]
     },
     "execution_count": 52,
     "metadata": {},
     "output_type": "execute_result"
    }
   ],
   "source": [
    "%time rf.fit(X_train, y_train)"
   ]
  },
  {
   "cell_type": "code",
   "execution_count": 53,
   "metadata": {},
   "outputs": [
    {
     "name": "stdout",
     "output_type": "stream",
     "text": [
      "Train R2 =  0.9468109911673573 , Valid R2 =  0.9192623595469146 , Valid MSE =  3.221346648017444\n"
     ]
    }
   ],
   "source": [
    "print_scores(rf)"
   ]
  },
  {
   "cell_type": "markdown",
   "metadata": {},
   "source": [
    "#### n_estimators\n",
    "\n",
    "The number of trees. "
   ]
  },
  {
   "cell_type": "code",
   "execution_count": 54,
   "metadata": {},
   "outputs": [],
   "source": [
    "rf = RandomForestRegressor(n_estimators=40, n_jobs=-1, min_samples_leaf=10)"
   ]
  },
  {
   "cell_type": "code",
   "execution_count": 55,
   "metadata": {},
   "outputs": [
    {
     "name": "stdout",
     "output_type": "stream",
     "text": [
      "CPU times: user 20min 52s, sys: 468 ms, total: 20min 53s\n",
      "Wall time: 1min 8s\n"
     ]
    },
    {
     "data": {
      "text/plain": [
       "RandomForestRegressor(bootstrap=True, criterion='mse', max_depth=None,\n",
       "           max_features='auto', max_leaf_nodes=None,\n",
       "           min_impurity_decrease=0.0, min_impurity_split=None,\n",
       "           min_samples_leaf=10, min_samples_split=2,\n",
       "           min_weight_fraction_leaf=0.0, n_estimators=40, n_jobs=-1,\n",
       "           oob_score=False, random_state=None, verbose=0, warm_start=False)"
      ]
     },
     "execution_count": 55,
     "metadata": {},
     "output_type": "execute_result"
    }
   ],
   "source": [
    "%time rf.fit(X_train, y_train)"
   ]
  },
  {
   "cell_type": "code",
   "execution_count": 56,
   "metadata": {},
   "outputs": [
    {
     "name": "stdout",
     "output_type": "stream",
     "text": [
      "Train R2 =  0.9758792913984392 , Valid R2 =  0.9236987002474748 , Valid MSE =  3.044341335934703\n"
     ]
    }
   ],
   "source": [
    "print_scores(rf)"
   ]
  },
  {
   "cell_type": "markdown",
   "metadata": {},
   "source": [
    "We are still getting a much better score on the training set. Partly we are still overfitting, but partly this is to be expected from our dataset and the way we chose the validation set. Can you explain why?\n",
    "\n",
    "Let's submit our new best model to kaggle."
   ]
  },
  {
   "cell_type": "code",
   "execution_count": 57,
   "metadata": {},
   "outputs": [
    {
     "data": {
      "text/html": [
       "<div>\n",
       "<style scoped>\n",
       "    .dataframe tbody tr th:only-of-type {\n",
       "        vertical-align: middle;\n",
       "    }\n",
       "\n",
       "    .dataframe tbody tr th {\n",
       "        vertical-align: top;\n",
       "    }\n",
       "\n",
       "    .dataframe thead th {\n",
       "        text-align: right;\n",
       "    }\n",
       "</style>\n",
       "<table border=\"1\" class=\"dataframe\">\n",
       "  <thead>\n",
       "    <tr style=\"text-align: right;\">\n",
       "      <th></th>\n",
       "      <th>Id</th>\n",
       "      <th>Expected</th>\n",
       "    </tr>\n",
       "  </thead>\n",
       "  <tbody>\n",
       "    <tr>\n",
       "      <th>0</th>\n",
       "      <td>0</td>\n",
       "      <td>3.990921</td>\n",
       "    </tr>\n",
       "    <tr>\n",
       "      <th>1</th>\n",
       "      <td>1</td>\n",
       "      <td>1.599061</td>\n",
       "    </tr>\n",
       "    <tr>\n",
       "      <th>2</th>\n",
       "      <td>2</td>\n",
       "      <td>0.275669</td>\n",
       "    </tr>\n",
       "    <tr>\n",
       "      <th>3</th>\n",
       "      <td>3</td>\n",
       "      <td>3.841802</td>\n",
       "    </tr>\n",
       "    <tr>\n",
       "      <th>4</th>\n",
       "      <td>4</td>\n",
       "      <td>2.266429</td>\n",
       "    </tr>\n",
       "  </tbody>\n",
       "</table>\n",
       "</div>"
      ],
      "text/plain": [
       "   Id  Expected\n",
       "0   0  3.990921\n",
       "1   1  1.599061\n",
       "2   2  0.275669\n",
       "3   3  3.841802\n",
       "4   4  2.266429"
      ]
     },
     "execution_count": 57,
     "metadata": {},
     "output_type": "execute_result"
    }
   ],
   "source": [
    "# Submit to Kaggle\n",
    "df_sub = create_sub(rf.predict(X_test), 'rf.csv'); df_sub.head()"
   ]
  },
  {
   "cell_type": "markdown",
   "metadata": {},
   "source": [
    "## Feature importance\n",
    "\n",
    "Getting a good prediction is nice, but ideally we would also understand why we are getting the prediction.\n",
    "\n",
    "For this we can look at feature importance. In feature importance, you randomly shuffle each column of the dataset and check by how much the prediction skill decreases."
   ]
  },
  {
   "cell_type": "code",
   "execution_count": 58,
   "metadata": {},
   "outputs": [
    {
     "data": {
      "text/plain": [
       "array([0.93868138, 0.00186631, 0.00730447, 0.0047923 , 0.00225341,\n",
       "       0.00213317, 0.00213651, 0.00320704, 0.0023025 , 0.00210903,\n",
       "       0.00320133, 0.00196183, 0.00140555, 0.00263594, 0.0022382 ,\n",
       "       0.00176618, 0.00234106, 0.00209369, 0.00184471, 0.00214723,\n",
       "       0.01028421, 0.00129396])"
      ]
     },
     "execution_count": 58,
     "metadata": {},
     "output_type": "execute_result"
    }
   ],
   "source": [
    "rf.feature_importances_"
   ]
  },
  {
   "cell_type": "code",
   "execution_count": 59,
   "metadata": {},
   "outputs": [],
   "source": [
    "# Create a new dataframe for easy plotting\n",
    "fi_df = pd.DataFrame(\n",
    "    data={'Feature': X_train.columns, 'Feature importance': rf.feature_importances_}, \n",
    "    columns = ['Feature', 'Feature importance']\n",
    ")"
   ]
  },
  {
   "cell_type": "code",
   "execution_count": 60,
   "metadata": {},
   "outputs": [],
   "source": [
    "fi_df.sort_values('Feature importance', inplace=True, ascending=False)"
   ]
  },
  {
   "cell_type": "code",
   "execution_count": 61,
   "metadata": {},
   "outputs": [
    {
     "data": {
      "image/png": "[encoded data removed]",
      "text/plain": [
       "<Figure size 432x288 with 1 Axes>"
      ]
     },
     "metadata": {},
     "output_type": "display_data"
    }
   ],
   "source": [
    "sns.barplot(data=fi_df, x='Feature importance', y='Feature')\n",
    "plt.xscale('log')"
   ]
  },
  {
   "cell_type": "markdown",
   "metadata": {},
   "source": [
    "As expected, by far the most important feature is `t2m_fc_mean`. Does the ordering of the remaining features make meteorological sense?\n",
    "\n",
    "There some other really cool ways of interpreting a random forest. For more information check out this notebook: https://github.com/fastai/fastai/blob/master/courses/ml1/lesson2-rf_interpretation.ipynb"
   ]
  },
  {
   "cell_type": "markdown",
   "metadata": {},
   "source": [
    "## Your turn\n",
    "\n",
    "Again, here are some challenges for all of you that are bored ;)\n",
    "\n",
    "1. The different stations have very different characteristics. Try building a model (e.g. linear regression) for each station individually. See if you can improve the validation and test score.\n",
    "2. Try adding some time information (for example the month as a feature. Does this improve the forecast?\n",
    "3. Try to get as good a score as possible. Be creative and use Google!"
   ]
  },
  {
   "cell_type": "markdown",
   "metadata": {},
   "source": [
    "### Build a LR model for each station individually"
   ]
  },
  {
   "cell_type": "code",
   "execution_count": 62,
   "metadata": {},
   "outputs": [],
   "source": [
    "split_date = '2015-01-01'"
   ]
  },
  {
   "cell_type": "code",
   "execution_count": 63,
   "metadata": {},
   "outputs": [],
   "source": [
    "stations_train = df_train.station[df_train.time < split_date]\n",
    "stations_valid = df_train.station[df_train.time >= split_date]\n",
    "stations_test = df_test.station"
   ]
  },
  {
   "cell_type": "code",
   "execution_count": 64,
   "metadata": {},
   "outputs": [
    {
     "name": "stdout",
     "output_type": "stream",
     "text": [
      "CPU times: user 41.7 s, sys: 680 ms, total: 42.4 s\n",
      "Wall time: 4.26 s\n"
     ]
    }
   ],
   "source": [
    "%%time\n",
    "models = {}\n",
    "for s in stations_train.unique():\n",
    "    m = LinearRegression()\n",
    "    m.fit(X_train[stations_train == s], y_train[stations_train == s])\n",
    "    models[s] = m"
   ]
  },
  {
   "cell_type": "code",
   "execution_count": 65,
   "metadata": {},
   "outputs": [],
   "source": [
    "preds = np.zeros(len(y_valid))\n",
    "for s in stations_valid.unique():\n",
    "    s_idxs = stations_valid == s\n",
    "    if s in stations_train.unique():\n",
    "        preds[s_idxs] = models[s].predict(X_valid[s_idxs])\n",
    "    else:\n",
    "        preds[s_idxs] = lr.predict(X_valid[s_idxs])"
   ]
  },
  {
   "cell_type": "code",
   "execution_count": 66,
   "metadata": {},
   "outputs": [
    {
     "data": {
      "text/plain": [
       "2.4853897742399758"
      ]
     },
     "execution_count": 66,
     "metadata": {},
     "output_type": "execute_result"
    }
   ],
   "source": [
    "mse(preds, y_valid)"
   ]
  },
  {
   "cell_type": "code",
   "execution_count": 67,
   "metadata": {},
   "outputs": [
    {
     "data": {
      "text/plain": [
       "(182218, (182218, 22))"
      ]
     },
     "execution_count": 67,
     "metadata": {},
     "output_type": "execute_result"
    }
   ],
   "source": [
    "len(X_test), X_test.shape"
   ]
  },
  {
   "cell_type": "code",
   "execution_count": 68,
   "metadata": {},
   "outputs": [],
   "source": [
    "test_preds = np.zeros(len(X_test))\n",
    "for s in stations_test.unique():\n",
    "    s_idxs = stations_test == s\n",
    "    if s in stations_train.unique():\n",
    "        test_preds[s_idxs] = models[s].predict(X_test[s_idxs])\n",
    "    else:\n",
    "        test_preds[s_idxs] = lr.predict(X_test[s_idxs])"
   ]
  },
  {
   "cell_type": "code",
   "execution_count": 69,
   "metadata": {},
   "outputs": [
    {
     "data": {
      "text/html": [
       "<div>\n",
       "<style scoped>\n",
       "    .dataframe tbody tr th:only-of-type {\n",
       "        vertical-align: middle;\n",
       "    }\n",
       "\n",
       "    .dataframe tbody tr th {\n",
       "        vertical-align: top;\n",
       "    }\n",
       "\n",
       "    .dataframe thead th {\n",
       "        text-align: right;\n",
       "    }\n",
       "</style>\n",
       "<table border=\"1\" class=\"dataframe\">\n",
       "  <thead>\n",
       "    <tr style=\"text-align: right;\">\n",
       "      <th></th>\n",
       "      <th>Id</th>\n",
       "      <th>Expected</th>\n",
       "    </tr>\n",
       "  </thead>\n",
       "  <tbody>\n",
       "    <tr>\n",
       "      <th>0</th>\n",
       "      <td>0</td>\n",
       "      <td>3.681001</td>\n",
       "    </tr>\n",
       "    <tr>\n",
       "      <th>1</th>\n",
       "      <td>1</td>\n",
       "      <td>1.831077</td>\n",
       "    </tr>\n",
       "    <tr>\n",
       "      <th>2</th>\n",
       "      <td>2</td>\n",
       "      <td>1.240477</td>\n",
       "    </tr>\n",
       "    <tr>\n",
       "      <th>3</th>\n",
       "      <td>3</td>\n",
       "      <td>3.521409</td>\n",
       "    </tr>\n",
       "    <tr>\n",
       "      <th>4</th>\n",
       "      <td>4</td>\n",
       "      <td>2.341089</td>\n",
       "    </tr>\n",
       "  </tbody>\n",
       "</table>\n",
       "</div>"
      ],
      "text/plain": [
       "   Id  Expected\n",
       "0   0  3.681001\n",
       "1   1  1.831077\n",
       "2   2  1.240477\n",
       "3   3  3.521409\n",
       "4   4  2.341089"
      ]
     },
     "execution_count": 69,
     "metadata": {},
     "output_type": "execute_result"
    }
   ],
   "source": [
    "# Submit to Kaggle\n",
    "df_sub = create_sub(test_preds, 'lr_local.csv'); df_sub.head()"
   ]
  },
  {
   "cell_type": "markdown",
   "metadata": {},
   "source": [
    "### Add month as information"
   ]
  },
  {
   "cell_type": "code",
   "execution_count": 70,
   "metadata": {},
   "outputs": [],
   "source": [
    "month = pd.DatetimeIndex(df_train['time']).month"
   ]
  },
  {
   "cell_type": "code",
   "execution_count": 71,
   "metadata": {},
   "outputs": [],
   "source": [
    "X_train_month = X_train.copy()\n",
    "X_valid_month = X_valid.copy()"
   ]
  },
  {
   "cell_type": "code",
   "execution_count": 72,
   "metadata": {},
   "outputs": [],
   "source": [
    "X_train_month['month'] = month[df_train.time < split_date]\n",
    "X_valid_month['month'] = month[df_train.time >= split_date]"
   ]
  },
  {
   "cell_type": "code",
   "execution_count": 73,
   "metadata": {},
   "outputs": [],
   "source": [
    "rf = RandomForestRegressor(n_estimators=40, n_jobs=-1, min_samples_leaf=10)"
   ]
  },
  {
   "cell_type": "code",
   "execution_count": 74,
   "metadata": {},
   "outputs": [
    {
     "name": "stdout",
     "output_type": "stream",
     "text": [
      "CPU times: user 20min 55s, sys: 400 ms, total: 20min 55s\n",
      "Wall time: 1min 5s\n"
     ]
    },
    {
     "data": {
      "text/plain": [
       "RandomForestRegressor(bootstrap=True, criterion='mse', max_depth=None,\n",
       "           max_features='auto', max_leaf_nodes=None,\n",
       "           min_impurity_decrease=0.0, min_impurity_split=None,\n",
       "           min_samples_leaf=10, min_samples_split=2,\n",
       "           min_weight_fraction_leaf=0.0, n_estimators=40, n_jobs=-1,\n",
       "           oob_score=False, random_state=None, verbose=0, warm_start=False)"
      ]
     },
     "execution_count": 74,
     "metadata": {},
     "output_type": "execute_result"
    }
   ],
   "source": [
    "%time rf.fit(X_train_month, y_train)"
   ]
  },
  {
   "cell_type": "code",
   "execution_count": 75,
   "metadata": {},
   "outputs": [
    {
     "name": "stdout",
     "output_type": "stream",
     "text": [
      "Train R2 =  0.9760923598960248 , Valid R2 =  0.9244143433212697 , Valid MSE =  3.0157879325406314\n"
     ]
    }
   ],
   "source": [
    "print_scores(rf, X_train_month, X_valid_month)"
   ]
  },
  {
   "cell_type": "code",
   "execution_count": 76,
   "metadata": {},
   "outputs": [
    {
     "data": {
      "image/png": "[encoded data removed]",
      "text/plain": [
       "<Figure size 432x288 with 1 Axes>"
      ]
     },
     "metadata": {},
     "output_type": "display_data"
    }
   ],
   "source": [
    "fi_df = pd.DataFrame(\n",
    "    data={'Feature': X_train_month.columns, 'Feature importance': rf.feature_importances_}, \n",
    "    columns = ['Feature', 'Feature importance']\n",
    ")\n",
    "fi_df.sort_values('Feature importance', inplace=True, ascending=False)\n",
    "sns.barplot(data=fi_df, x='Feature importance', y='Feature')\n",
    "plt.xscale('log')"
   ]
  },
  {
   "cell_type": "code",
   "execution_count": null,
   "metadata": {},
   "outputs": [],
   "source": []
  }
 ],
 "metadata": {
  "kernelspec": {
   "display_name": "Python 3",
   "language": "python",
   "name": "python3"
  },
  "language_info": {
   "codemirror_mode": {
    "name": "ipython",
    "version": 3
   },
   "file_extension": ".py",
   "mimetype": "text/x-python",
   "name": "python",
   "nbconvert_exporter": "python",
   "pygments_lexer": "ipython3",
   "version": "3.6.5"
  },
  "toc": {
   "base_numbering": 1,
   "nav_menu": {},
   "number_sections": true,
   "sideBar": false,
   "skip_h1_title": true,
   "title_cell": "Table of Contents",
   "title_sidebar": "Contents",
   "toc_cell": false,
   "toc_position": {},
   "toc_section_display": true,
   "toc_window_display": false
  }
 },
 "nbformat": 4,
 "nbformat_minor": 2
}
